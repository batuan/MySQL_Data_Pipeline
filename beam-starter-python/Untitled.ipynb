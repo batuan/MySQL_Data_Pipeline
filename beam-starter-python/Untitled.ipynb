{
 "cells": [
  {
   "cell_type": "code",
   "execution_count": 2,
   "metadata": {},
   "outputs": [
    {
     "ename": "ModuleNotFoundError",
     "evalue": "No module named 'beam_mysql'",
     "output_type": "error",
     "traceback": [
      "\u001b[0;31m---------------------------------------------------------------------------\u001b[0m",
      "\u001b[0;31mModuleNotFoundError\u001b[0m                       Traceback (most recent call last)",
      "Cell \u001b[0;32mIn[2], line 4\u001b[0m\n\u001b[1;32m      2\u001b[0m \u001b[39mimport\u001b[39;00m \u001b[39mapache_beam\u001b[39;00m \u001b[39mas\u001b[39;00m \u001b[39mbeam\u001b[39;00m\n\u001b[1;32m      3\u001b[0m \u001b[39mfrom\u001b[39;00m \u001b[39mapache_beam\u001b[39;00m\u001b[39m.\u001b[39;00m\u001b[39moptions\u001b[39;00m\u001b[39m.\u001b[39;00m\u001b[39mpipeline_options\u001b[39;00m \u001b[39mimport\u001b[39;00m PipelineOptions\n\u001b[0;32m----> 4\u001b[0m \u001b[39mfrom\u001b[39;00m \u001b[39mbeam_mysql\u001b[39;00m\u001b[39m.\u001b[39;00m\u001b[39mconnector\u001b[39;00m\u001b[39m.\u001b[39;00m\u001b[39mio\u001b[39;00m \u001b[39mimport\u001b[39;00m WriteToMySQL, ReadFromMySQL\n\u001b[1;32m      5\u001b[0m \u001b[39mfrom\u001b[39;00m \u001b[39mbeam_mysql\u001b[39;00m\u001b[39m.\u001b[39;00m\u001b[39mconnector\u001b[39;00m \u001b[39mimport\u001b[39;00m splitters\n\u001b[1;32m      7\u001b[0m \u001b[39mfrom\u001b[39;00m \u001b[39mapache_beam\u001b[39;00m\u001b[39m.\u001b[39;00m\u001b[39mdataframe\u001b[39;00m\u001b[39m.\u001b[39;00m\u001b[39mconvert\u001b[39;00m \u001b[39mimport\u001b[39;00m to_dataframe, to_pcollection\n",
      "\u001b[0;31mModuleNotFoundError\u001b[0m: No module named 'beam_mysql'"
     ]
    }
   ],
   "source": [
    "from typing import Callable, Optional\n",
    "import apache_beam as beam\n",
    "from apache_beam.options.pipeline_options import PipelineOptions\n",
    "from beam_mysql.connector.io import WriteToMySQL, ReadFromMySQL\n",
    "from beam_mysql.connector import splitters\n",
    "\n",
    "from apache_beam.dataframe.convert import to_dataframe, to_pcollection\n",
    "from apache_beam.options.pipeline_options import PipelineOptions"
   ]
  },
  {
   "cell_type": "code",
   "execution_count": 3,
   "id": "5d0233f4",
   "metadata": {},
   "outputs": [
    {
     "name": "stderr",
     "output_type": "stream",
     "text": [
      "usage: ipykernel_launcher.py [-h] [--dataflow_endpoint DATAFLOW_ENDPOINT]\n",
      "                             [--project PROJECT] [--job_name JOB_NAME]\n",
      "                             [--staging_location STAGING_LOCATION]\n",
      "                             [--temp_location TEMP_LOCATION] [--region REGION]\n",
      "                             [--service_account_email SERVICE_ACCOUNT_EMAIL]\n",
      "                             [--no_auth]\n",
      "                             [--template_location TEMPLATE_LOCATION]\n",
      "                             [--label LABELS] [--update]\n",
      "                             [--transform_name_mapping TRANSFORM_NAME_MAPPING]\n",
      "                             [--enable_streaming_engine]\n",
      "                             [--dataflow_kms_key DATAFLOW_KMS_KEY]\n",
      "                             [--create_from_snapshot CREATE_FROM_SNAPSHOT]\n",
      "                             [--flexrs_goal {COST_OPTIMIZED,SPEED_OPTIMIZED}]\n",
      "                             [--dataflow_service_option DATAFLOW_SERVICE_OPTIONS]\n",
      "                             [--enable_hot_key_logging]\n",
      "                             [--enable_artifact_caching]\n",
      "                             [--impersonate_service_account IMPERSONATE_SERVICE_ACCOUNT]\n",
      "                             [--gcp_oauth_scope GCP_OAUTH_SCOPES]\n",
      "ipykernel_launcher.py: error: argument --flexrs_goal: invalid choice: '/Users/batuan/Library/Jupyter/runtime/kernel-v2-53136tBSrYBFnBFmv.json' (choose from 'COST_OPTIMIZED', 'SPEED_OPTIMIZED')\n"
     ]
    },
    {
     "ename": "AttributeError",
     "evalue": "'tuple' object has no attribute 'tb_frame'",
     "output_type": "error",
     "traceback": [
      "\u001b[0;31m---------------------------------------------------------------------------\u001b[0m",
      "\u001b[0;31mArgumentError\u001b[0m                             Traceback (most recent call last)",
      "File \u001b[0;32m~/miniforge3/lib/python3.9/argparse.py:1853\u001b[0m, in \u001b[0;36mArgumentParser.parse_known_args\u001b[0;34m(self, args, namespace)\u001b[0m\n\u001b[1;32m   1852\u001b[0m \u001b[39mtry\u001b[39;00m:\n\u001b[0;32m-> 1853\u001b[0m     namespace, args \u001b[39m=\u001b[39m \u001b[39mself\u001b[39;49m\u001b[39m.\u001b[39;49m_parse_known_args(args, namespace)\n\u001b[1;32m   1854\u001b[0m \u001b[39mexcept\u001b[39;00m ArgumentError:\n",
      "File \u001b[0;32m~/miniforge3/lib/python3.9/argparse.py:2062\u001b[0m, in \u001b[0;36mArgumentParser._parse_known_args\u001b[0;34m(self, arg_strings, namespace)\u001b[0m\n\u001b[1;32m   2061\u001b[0m     \u001b[39m# consume the next optional and any arguments for it\u001b[39;00m\n\u001b[0;32m-> 2062\u001b[0m     start_index \u001b[39m=\u001b[39m consume_optional(start_index)\n\u001b[1;32m   2064\u001b[0m \u001b[39m# consume any positionals following the last Optional\u001b[39;00m\n",
      "File \u001b[0;32m~/miniforge3/lib/python3.9/argparse.py:2002\u001b[0m, in \u001b[0;36mArgumentParser._parse_known_args.<locals>.consume_optional\u001b[0;34m(start_index)\u001b[0m\n\u001b[1;32m   2001\u001b[0m \u001b[39mfor\u001b[39;00m action, args, option_string \u001b[39min\u001b[39;00m action_tuples:\n\u001b[0;32m-> 2002\u001b[0m     take_action(action, args, option_string)\n\u001b[1;32m   2003\u001b[0m \u001b[39mreturn\u001b[39;00m stop\n",
      "File \u001b[0;32m~/miniforge3/lib/python3.9/argparse.py:1914\u001b[0m, in \u001b[0;36mArgumentParser._parse_known_args.<locals>.take_action\u001b[0;34m(action, argument_strings, option_string)\u001b[0m\n\u001b[1;32m   1913\u001b[0m seen_actions\u001b[39m.\u001b[39madd(action)\n\u001b[0;32m-> 1914\u001b[0m argument_values \u001b[39m=\u001b[39m \u001b[39mself\u001b[39;49m\u001b[39m.\u001b[39;49m_get_values(action, argument_strings)\n\u001b[1;32m   1916\u001b[0m \u001b[39m# error if this argument is not allowed with other previously\u001b[39;00m\n\u001b[1;32m   1917\u001b[0m \u001b[39m# seen arguments, assuming that actions that use the default\u001b[39;00m\n\u001b[1;32m   1918\u001b[0m \u001b[39m# value don't really count as \"present\"\u001b[39;00m\n",
      "File \u001b[0;32m~/miniforge3/lib/python3.9/argparse.py:2446\u001b[0m, in \u001b[0;36mArgumentParser._get_values\u001b[0;34m(self, action, arg_strings)\u001b[0m\n\u001b[1;32m   2445\u001b[0m     value \u001b[39m=\u001b[39m \u001b[39mself\u001b[39m\u001b[39m.\u001b[39m_get_value(action, arg_string)\n\u001b[0;32m-> 2446\u001b[0m     \u001b[39mself\u001b[39;49m\u001b[39m.\u001b[39;49m_check_value(action, value)\n\u001b[1;32m   2448\u001b[0m \u001b[39m# REMAINDER arguments convert all values, checking none\u001b[39;00m\n",
      "File \u001b[0;32m~/miniforge3/lib/python3.9/argparse.py:2502\u001b[0m, in \u001b[0;36mArgumentParser._check_value\u001b[0;34m(self, action, value)\u001b[0m\n\u001b[1;32m   2501\u001b[0m msg \u001b[39m=\u001b[39m _(\u001b[39m'\u001b[39m\u001b[39minvalid choice: \u001b[39m\u001b[39m%(value)r\u001b[39;00m\u001b[39m (choose from \u001b[39m\u001b[39m%(choices)s\u001b[39;00m\u001b[39m)\u001b[39m\u001b[39m'\u001b[39m)\n\u001b[0;32m-> 2502\u001b[0m \u001b[39mraise\u001b[39;00m ArgumentError(action, msg \u001b[39m%\u001b[39m args)\n",
      "\u001b[0;31mArgumentError\u001b[0m: argument --flexrs_goal: invalid choice: '/Users/batuan/Library/Jupyter/runtime/kernel-v2-53136tBSrYBFnBFmv.json' (choose from 'COST_OPTIMIZED', 'SPEED_OPTIMIZED')",
      "\nDuring handling of the above exception, another exception occurred:\n",
      "\u001b[0;31mSystemExit\u001b[0m                                Traceback (most recent call last)",
      "    \u001b[0;31m[... skipping hidden 1 frame]\u001b[0m\n",
      "Cell \u001b[0;32mIn[3], line 2\u001b[0m\n\u001b[1;32m      1\u001b[0m beam_options \u001b[39m=\u001b[39m PipelineOptions(runner\u001b[39m=\u001b[39m\u001b[39m'\u001b[39m\u001b[39mdirect\u001b[39m\u001b[39m'\u001b[39m)\n\u001b[0;32m----> 2\u001b[0m p \u001b[39m=\u001b[39m beam\u001b[39m.\u001b[39;49mPipeline(options\u001b[39m=\u001b[39;49mbeam_options)\n",
      "File \u001b[0;32m~/miniforge3/lib/python3.9/site-packages/apache_beam/pipeline.py:201\u001b[0m, in \u001b[0;36mPipeline.__init__\u001b[0;34m(self, runner, options, argv)\u001b[0m\n\u001b[1;32m    200\u001b[0m \u001b[39m# Validate pipeline options\u001b[39;00m\n\u001b[0;32m--> 201\u001b[0m errors \u001b[39m=\u001b[39m PipelineOptionsValidator(\u001b[39mself\u001b[39;49m\u001b[39m.\u001b[39;49m_options, runner)\u001b[39m.\u001b[39;49mvalidate()\n\u001b[1;32m    202\u001b[0m \u001b[39mif\u001b[39;00m errors:\n",
      "File \u001b[0;32m~/miniforge3/lib/python3.9/site-packages/apache_beam/options/pipeline_options_validator.py:146\u001b[0m, in \u001b[0;36mPipelineOptionsValidator.validate\u001b[0;34m(self)\u001b[0m\n\u001b[1;32m    145\u001b[0m   \u001b[39mif\u001b[39;00m \u001b[39m'\u001b[39m\u001b[39mvalidate\u001b[39m\u001b[39m'\u001b[39m \u001b[39min\u001b[39;00m \u001b[39mcls\u001b[39m\u001b[39m.\u001b[39m\u001b[39m__dict__\u001b[39m \u001b[39mand\u001b[39;00m callable(\u001b[39mcls\u001b[39m\u001b[39m.\u001b[39m\u001b[39m__dict__\u001b[39m[\u001b[39m'\u001b[39m\u001b[39mvalidate\u001b[39m\u001b[39m'\u001b[39m]):\n\u001b[0;32m--> 146\u001b[0m     errors\u001b[39m.\u001b[39mextend(\u001b[39mself\u001b[39;49m\u001b[39m.\u001b[39;49moptions\u001b[39m.\u001b[39;49mview_as(\u001b[39mcls\u001b[39;49m)\u001b[39m.\u001b[39mvalidate(\u001b[39mself\u001b[39m))\n\u001b[1;32m    147\u001b[0m \u001b[39mreturn\u001b[39;00m errors\n",
      "File \u001b[0;32m~/miniforge3/lib/python3.9/site-packages/apache_beam/options/pipeline_options.py:416\u001b[0m, in \u001b[0;36mPipelineOptions.view_as\u001b[0;34m(self, cls)\u001b[0m\n\u001b[1;32m    395\u001b[0m \u001b[39m\u001b[39m\u001b[39m\"\"\"Returns a view of current object as provided PipelineOption subclass.\u001b[39;00m\n\u001b[1;32m    396\u001b[0m \n\u001b[1;32m    397\u001b[0m \u001b[39mExample Usage::\u001b[39;00m\n\u001b[0;32m   (...)\u001b[0m\n\u001b[1;32m    414\u001b[0m \n\u001b[1;32m    415\u001b[0m \u001b[39m\"\"\"\u001b[39;00m\n\u001b[0;32m--> 416\u001b[0m view \u001b[39m=\u001b[39m \u001b[39mcls\u001b[39;49m(\u001b[39mself\u001b[39;49m\u001b[39m.\u001b[39;49m_flags)\n\u001b[1;32m    418\u001b[0m \u001b[39mfor\u001b[39;00m option_name \u001b[39min\u001b[39;00m view\u001b[39m.\u001b[39m_visible_option_list():\n\u001b[1;32m    419\u001b[0m   \u001b[39m# Initialize values of keys defined by a cls.\u001b[39;00m\n\u001b[1;32m    420\u001b[0m   \u001b[39m#\u001b[39;00m\n\u001b[0;32m   (...)\u001b[0m\n\u001b[1;32m    424\u001b[0m   \u001b[39m# backed by the same list across multiple views, and that any overrides of\u001b[39;00m\n\u001b[1;32m    425\u001b[0m   \u001b[39m# pipeline options already stored in _all_options are preserved.\u001b[39;00m\n",
      "File \u001b[0;32m~/miniforge3/lib/python3.9/site-packages/apache_beam/options/pipeline_options.py:231\u001b[0m, in \u001b[0;36mPipelineOptions.__init__\u001b[0;34m(self, flags, **kwargs)\u001b[0m\n\u001b[1;32m    229\u001b[0m \u001b[39m# The _visible_options attribute will contain options that were recognized\u001b[39;00m\n\u001b[1;32m    230\u001b[0m \u001b[39m# by the parser.\u001b[39;00m\n\u001b[0;32m--> 231\u001b[0m \u001b[39mself\u001b[39m\u001b[39m.\u001b[39m_visible_options, _ \u001b[39m=\u001b[39m parser\u001b[39m.\u001b[39;49mparse_known_args(flags)\n\u001b[1;32m    233\u001b[0m \u001b[39m# self._all_options is initialized with overrides to flag values,\u001b[39;00m\n\u001b[1;32m    234\u001b[0m \u001b[39m# provided in kwargs, and will store key-value pairs for options recognized\u001b[39;00m\n\u001b[1;32m    235\u001b[0m \u001b[39m# by current PipelineOptions [sub]class and its views that may be created.\u001b[39;00m\n\u001b[0;32m   (...)\u001b[0m\n\u001b[1;32m    238\u001b[0m \u001b[39m# as each new views are created.\u001b[39;00m\n\u001b[1;32m    239\u001b[0m \u001b[39m# Users access this dictionary store via __getattr__ / __setattr__ methods.\u001b[39;00m\n",
      "File \u001b[0;32m~/miniforge3/lib/python3.9/argparse.py:1856\u001b[0m, in \u001b[0;36mArgumentParser.parse_known_args\u001b[0;34m(self, args, namespace)\u001b[0m\n\u001b[1;32m   1855\u001b[0m         err \u001b[39m=\u001b[39m _sys\u001b[39m.\u001b[39mexc_info()[\u001b[39m1\u001b[39m]\n\u001b[0;32m-> 1856\u001b[0m         \u001b[39mself\u001b[39;49m\u001b[39m.\u001b[39;49merror(\u001b[39mstr\u001b[39;49m(err))\n\u001b[1;32m   1857\u001b[0m \u001b[39melse\u001b[39;00m:\n",
      "File \u001b[0;32m~/miniforge3/lib/python3.9/site-packages/apache_beam/options/pipeline_options.py:135\u001b[0m, in \u001b[0;36m_BeamArgumentParser.error\u001b[0;34m(self, message)\u001b[0m\n\u001b[1;32m    134\u001b[0m   \u001b[39mreturn\u001b[39;00m\n\u001b[0;32m--> 135\u001b[0m \u001b[39msuper\u001b[39;49m()\u001b[39m.\u001b[39;49merror(message)\n",
      "File \u001b[0;32m~/miniforge3/lib/python3.9/argparse.py:2577\u001b[0m, in \u001b[0;36mArgumentParser.error\u001b[0;34m(self, message)\u001b[0m\n\u001b[1;32m   2576\u001b[0m args \u001b[39m=\u001b[39m {\u001b[39m'\u001b[39m\u001b[39mprog\u001b[39m\u001b[39m'\u001b[39m: \u001b[39mself\u001b[39m\u001b[39m.\u001b[39mprog, \u001b[39m'\u001b[39m\u001b[39mmessage\u001b[39m\u001b[39m'\u001b[39m: message}\n\u001b[0;32m-> 2577\u001b[0m \u001b[39mself\u001b[39;49m\u001b[39m.\u001b[39;49mexit(\u001b[39m2\u001b[39;49m, _(\u001b[39m'\u001b[39;49m\u001b[39m%(prog)s\u001b[39;49;00m\u001b[39m: error: \u001b[39;49m\u001b[39m%(message)s\u001b[39;49;00m\u001b[39m\\n\u001b[39;49;00m\u001b[39m'\u001b[39;49m) \u001b[39m%\u001b[39;49m args)\n",
      "File \u001b[0;32m~/miniforge3/lib/python3.9/argparse.py:2564\u001b[0m, in \u001b[0;36mArgumentParser.exit\u001b[0;34m(self, status, message)\u001b[0m\n\u001b[1;32m   2563\u001b[0m     \u001b[39mself\u001b[39m\u001b[39m.\u001b[39m_print_message(message, _sys\u001b[39m.\u001b[39mstderr)\n\u001b[0;32m-> 2564\u001b[0m _sys\u001b[39m.\u001b[39;49mexit(status)\n",
      "\u001b[0;31mSystemExit\u001b[0m: 2",
      "\nDuring handling of the above exception, another exception occurred:\n",
      "\u001b[0;31mAttributeError\u001b[0m                            Traceback (most recent call last)",
      "    \u001b[0;31m[... skipping hidden 1 frame]\u001b[0m\n",
      "File \u001b[0;32m~/miniforge3/lib/python3.9/site-packages/IPython/core/interactiveshell.py:2047\u001b[0m, in \u001b[0;36mInteractiveShell.showtraceback\u001b[0;34m(self, exc_tuple, filename, tb_offset, exception_only, running_compiled_code)\u001b[0m\n\u001b[1;32m   2044\u001b[0m \u001b[39mif\u001b[39;00m exception_only:\n\u001b[1;32m   2045\u001b[0m     stb \u001b[39m=\u001b[39m [\u001b[39m'\u001b[39m\u001b[39mAn exception has occurred, use \u001b[39m\u001b[39m%\u001b[39m\u001b[39mtb to see \u001b[39m\u001b[39m'\u001b[39m\n\u001b[1;32m   2046\u001b[0m            \u001b[39m'\u001b[39m\u001b[39mthe full traceback.\u001b[39m\u001b[39m\\n\u001b[39;00m\u001b[39m'\u001b[39m]\n\u001b[0;32m-> 2047\u001b[0m     stb\u001b[39m.\u001b[39mextend(\u001b[39mself\u001b[39;49m\u001b[39m.\u001b[39;49mInteractiveTB\u001b[39m.\u001b[39;49mget_exception_only(etype,\n\u001b[1;32m   2048\u001b[0m                                                      value))\n\u001b[1;32m   2049\u001b[0m \u001b[39melse\u001b[39;00m:\n\u001b[1;32m   2050\u001b[0m     \u001b[39mtry\u001b[39;00m:\n\u001b[1;32m   2051\u001b[0m         \u001b[39m# Exception classes can customise their traceback - we\u001b[39;00m\n\u001b[1;32m   2052\u001b[0m         \u001b[39m# use this in IPython.parallel for exceptions occurring\u001b[39;00m\n\u001b[1;32m   2053\u001b[0m         \u001b[39m# in the engines. This should return a list of strings.\u001b[39;00m\n",
      "File \u001b[0;32m~/miniforge3/lib/python3.9/site-packages/IPython/core/ultratb.py:636\u001b[0m, in \u001b[0;36mListTB.get_exception_only\u001b[0;34m(self, etype, value)\u001b[0m\n\u001b[1;32m    628\u001b[0m \u001b[39mdef\u001b[39;00m \u001b[39mget_exception_only\u001b[39m(\u001b[39mself\u001b[39m, etype, value):\n\u001b[1;32m    629\u001b[0m \u001b[39m    \u001b[39m\u001b[39m\"\"\"Only print the exception type and message, without a traceback.\u001b[39;00m\n\u001b[1;32m    630\u001b[0m \n\u001b[1;32m    631\u001b[0m \u001b[39m    Parameters\u001b[39;00m\n\u001b[0;32m   (...)\u001b[0m\n\u001b[1;32m    634\u001b[0m \u001b[39m    value : exception value\u001b[39;00m\n\u001b[1;32m    635\u001b[0m \u001b[39m    \"\"\"\u001b[39;00m\n\u001b[0;32m--> 636\u001b[0m     \u001b[39mreturn\u001b[39;00m ListTB\u001b[39m.\u001b[39;49mstructured_traceback(\u001b[39mself\u001b[39;49m, etype, value)\n",
      "File \u001b[0;32m~/miniforge3/lib/python3.9/site-packages/IPython/core/ultratb.py:503\u001b[0m, in \u001b[0;36mListTB.structured_traceback\u001b[0;34m(self, etype, evalue, etb, tb_offset, context)\u001b[0m\n\u001b[1;32m    500\u001b[0m     chained_exc_ids\u001b[39m.\u001b[39madd(\u001b[39mid\u001b[39m(exception[\u001b[39m1\u001b[39m]))\n\u001b[1;32m    501\u001b[0m     chained_exceptions_tb_offset \u001b[39m=\u001b[39m \u001b[39m0\u001b[39m\n\u001b[1;32m    502\u001b[0m     out_list \u001b[39m=\u001b[39m (\n\u001b[0;32m--> 503\u001b[0m         \u001b[39mself\u001b[39;49m\u001b[39m.\u001b[39;49mstructured_traceback(\n\u001b[1;32m    504\u001b[0m             etype, evalue, (etb, chained_exc_ids),\n\u001b[1;32m    505\u001b[0m             chained_exceptions_tb_offset, context)\n\u001b[1;32m    506\u001b[0m         \u001b[39m+\u001b[39m chained_exception_message\n\u001b[1;32m    507\u001b[0m         \u001b[39m+\u001b[39m out_list)\n\u001b[1;32m    509\u001b[0m \u001b[39mreturn\u001b[39;00m out_list\n",
      "File \u001b[0;32m~/miniforge3/lib/python3.9/site-packages/IPython/core/ultratb.py:1288\u001b[0m, in \u001b[0;36mAutoFormattedTB.structured_traceback\u001b[0;34m(self, etype, value, tb, tb_offset, number_of_lines_of_context)\u001b[0m\n\u001b[1;32m   1286\u001b[0m \u001b[39melse\u001b[39;00m:\n\u001b[1;32m   1287\u001b[0m     \u001b[39mself\u001b[39m\u001b[39m.\u001b[39mtb \u001b[39m=\u001b[39m tb\n\u001b[0;32m-> 1288\u001b[0m \u001b[39mreturn\u001b[39;00m FormattedTB\u001b[39m.\u001b[39;49mstructured_traceback(\n\u001b[1;32m   1289\u001b[0m     \u001b[39mself\u001b[39;49m, etype, value, tb, tb_offset, number_of_lines_of_context)\n",
      "File \u001b[0;32m~/miniforge3/lib/python3.9/site-packages/IPython/core/ultratb.py:1177\u001b[0m, in \u001b[0;36mFormattedTB.structured_traceback\u001b[0;34m(self, etype, value, tb, tb_offset, number_of_lines_of_context)\u001b[0m\n\u001b[1;32m   1174\u001b[0m mode \u001b[39m=\u001b[39m \u001b[39mself\u001b[39m\u001b[39m.\u001b[39mmode\n\u001b[1;32m   1175\u001b[0m \u001b[39mif\u001b[39;00m mode \u001b[39min\u001b[39;00m \u001b[39mself\u001b[39m\u001b[39m.\u001b[39mverbose_modes:\n\u001b[1;32m   1176\u001b[0m     \u001b[39m# Verbose modes need a full traceback\u001b[39;00m\n\u001b[0;32m-> 1177\u001b[0m     \u001b[39mreturn\u001b[39;00m VerboseTB\u001b[39m.\u001b[39;49mstructured_traceback(\n\u001b[1;32m   1178\u001b[0m         \u001b[39mself\u001b[39;49m, etype, value, tb, tb_offset, number_of_lines_of_context\n\u001b[1;32m   1179\u001b[0m     )\n\u001b[1;32m   1180\u001b[0m \u001b[39melif\u001b[39;00m mode \u001b[39m==\u001b[39m \u001b[39m'\u001b[39m\u001b[39mMinimal\u001b[39m\u001b[39m'\u001b[39m:\n\u001b[1;32m   1181\u001b[0m     \u001b[39mreturn\u001b[39;00m ListTB\u001b[39m.\u001b[39mget_exception_only(\u001b[39mself\u001b[39m, etype, value)\n",
      "File \u001b[0;32m~/miniforge3/lib/python3.9/site-packages/IPython/core/ultratb.py:1030\u001b[0m, in \u001b[0;36mVerboseTB.structured_traceback\u001b[0;34m(self, etype, evalue, etb, tb_offset, number_of_lines_of_context)\u001b[0m\n\u001b[1;32m   1021\u001b[0m \u001b[39mdef\u001b[39;00m \u001b[39mstructured_traceback\u001b[39m(\n\u001b[1;32m   1022\u001b[0m     \u001b[39mself\u001b[39m,\n\u001b[1;32m   1023\u001b[0m     etype: \u001b[39mtype\u001b[39m,\n\u001b[0;32m   (...)\u001b[0m\n\u001b[1;32m   1027\u001b[0m     number_of_lines_of_context: \u001b[39mint\u001b[39m \u001b[39m=\u001b[39m \u001b[39m5\u001b[39m,\n\u001b[1;32m   1028\u001b[0m ):\n\u001b[1;32m   1029\u001b[0m \u001b[39m    \u001b[39m\u001b[39m\"\"\"Return a nice text document describing the traceback.\"\"\"\u001b[39;00m\n\u001b[0;32m-> 1030\u001b[0m     formatted_exception \u001b[39m=\u001b[39m \u001b[39mself\u001b[39;49m\u001b[39m.\u001b[39;49mformat_exception_as_a_whole(etype, evalue, etb, number_of_lines_of_context,\n\u001b[1;32m   1031\u001b[0m                                                            tb_offset)\n\u001b[1;32m   1033\u001b[0m     colors \u001b[39m=\u001b[39m \u001b[39mself\u001b[39m\u001b[39m.\u001b[39mColors  \u001b[39m# just a shorthand + quicker name lookup\u001b[39;00m\n\u001b[1;32m   1034\u001b[0m     colorsnormal \u001b[39m=\u001b[39m colors\u001b[39m.\u001b[39mNormal  \u001b[39m# used a lot\u001b[39;00m\n",
      "File \u001b[0;32m~/miniforge3/lib/python3.9/site-packages/IPython/core/ultratb.py:935\u001b[0m, in \u001b[0;36mVerboseTB.format_exception_as_a_whole\u001b[0;34m(self, etype, evalue, etb, number_of_lines_of_context, tb_offset)\u001b[0m\n\u001b[1;32m    932\u001b[0m \u001b[39massert\u001b[39;00m \u001b[39misinstance\u001b[39m(tb_offset, \u001b[39mint\u001b[39m)\n\u001b[1;32m    933\u001b[0m head \u001b[39m=\u001b[39m \u001b[39mself\u001b[39m\u001b[39m.\u001b[39mprepare_header(etype, \u001b[39mself\u001b[39m\u001b[39m.\u001b[39mlong_header)\n\u001b[1;32m    934\u001b[0m records \u001b[39m=\u001b[39m (\n\u001b[0;32m--> 935\u001b[0m     \u001b[39mself\u001b[39;49m\u001b[39m.\u001b[39;49mget_records(etb, number_of_lines_of_context, tb_offset) \u001b[39mif\u001b[39;00m etb \u001b[39melse\u001b[39;00m []\n\u001b[1;32m    936\u001b[0m )\n\u001b[1;32m    938\u001b[0m frames \u001b[39m=\u001b[39m []\n\u001b[1;32m    939\u001b[0m skipped \u001b[39m=\u001b[39m \u001b[39m0\u001b[39m\n",
      "File \u001b[0;32m~/miniforge3/lib/python3.9/site-packages/IPython/core/ultratb.py:1002\u001b[0m, in \u001b[0;36mVerboseTB.get_records\u001b[0;34m(self, etb, number_of_lines_of_context, tb_offset)\u001b[0m\n\u001b[1;32m   1000\u001b[0m tbs \u001b[39m=\u001b[39m []\n\u001b[1;32m   1001\u001b[0m \u001b[39mwhile\u001b[39;00m cf \u001b[39mis\u001b[39;00m \u001b[39mnot\u001b[39;00m \u001b[39mNone\u001b[39;00m:\n\u001b[0;32m-> 1002\u001b[0m     source_file \u001b[39m=\u001b[39m inspect\u001b[39m.\u001b[39mgetsourcefile(etb\u001b[39m.\u001b[39;49mtb_frame)\n\u001b[1;32m   1003\u001b[0m     lines, first \u001b[39m=\u001b[39m inspect\u001b[39m.\u001b[39mgetsourcelines(etb\u001b[39m.\u001b[39mtb_frame)\n\u001b[1;32m   1004\u001b[0m     max_len \u001b[39m=\u001b[39m \u001b[39mmax\u001b[39m(max_len, first \u001b[39m+\u001b[39m \u001b[39mlen\u001b[39m(lines))\n",
      "\u001b[0;31mAttributeError\u001b[0m: 'tuple' object has no attribute 'tb_frame'"
     ]
    }
   ],
   "source": [
    "beam_options = PipelineOptions(runner='direct')\n",
    "p = beam.Pipeline(options=beam_options)"
   ]
  }
 ],
 "metadata": {
  "kernelspec": {
   "display_name": "prevadom",
   "language": "python",
   "name": "python3"
  },
  "language_info": {
   "codemirror_mode": {
    "name": "ipython",
    "version": 3
   },
   "file_extension": ".py",
   "mimetype": "text/x-python",
   "name": "python",
   "nbconvert_exporter": "python",
   "pygments_lexer": "ipython3",
   "version": "3.9.7"
  }
 },
 "nbformat": 4,
 "nbformat_minor": 5
}
