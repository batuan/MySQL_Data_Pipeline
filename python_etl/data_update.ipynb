{
 "cells": [
  {
   "cell_type": "code",
   "execution_count": 36,
   "id": "24b508fc",
   "metadata": {},
   "outputs": [],
   "source": [
    "import mysql.connector\n",
    "import re\n",
    "import pandas as pd"
   ]
  },
  {
   "cell_type": "code",
   "execution_count": 2,
   "id": "f7808e4a",
   "metadata": {},
   "outputs": [],
   "source": [
    "mydb = mysql.connector.connect(\n",
    "  host=\"localhost\",\n",
    "  user=\"root\",\n",
    "  password=\"password\",\n",
    "  database=\"acme\"\n",
    ")"
   ]
  },
  {
   "cell_type": "code",
   "execution_count": 3,
   "id": "73a97a0f",
   "metadata": {},
   "outputs": [],
   "source": [
    "mycursor = mydb.cursor()\n",
    "mycursor.execute(\"SELECT * FROM employee\")\n",
    "myresult = mycursor.fetchall()"
   ]
  },
  {
   "cell_type": "code",
   "execution_count": 69,
   "id": "8254ca1d",
   "metadata": {},
   "outputs": [],
   "source": [
    "df = pd.read_csv(\"./employees - infos badge à mettre à jour.csv\")\n",
    "df['index'] = range(1, len(df) + 1)\n",
    "df_val = df[['employee_first_name', 'employee_last_name', 'badge_serial_number', 'index']].fillna(\"\").values"
   ]
  },
  {
   "cell_type": "code",
   "execution_count": null,
   "id": "9e5ebe45",
   "metadata": {},
   "outputs": [],
   "source": [
    "for index, x in enumerate(df_val):\n",
    "    y = myresult[index]\n",
    "    if x[0] == y[1] and x[1] ==  y[2]:\n",
    "        print(x, y)"
   ]
  },
  {
   "cell_type": "code",
   "execution_count": 71,
   "id": "11a3d540",
   "metadata": {},
   "outputs": [
    {
     "data": {
      "text/plain": [
       "array(['Aldus', 'Kelly', '4180485c-ad12-45d0-a4e9-99b0db7a5f75', 1],\n",
       "      dtype=object)"
      ]
     },
     "execution_count": 71,
     "metadata": {},
     "output_type": "execute_result"
    }
   ],
   "source": [
    "df_val[0]"
   ]
  },
  {
   "cell_type": "code",
   "execution_count": 75,
   "id": "cb058510",
   "metadata": {},
   "outputs": [],
   "source": [
    "for x in df_val:\n",
    "    try:\n",
    "        sql = \"update badge set serial_number = %s where employee_id = %s\"\n",
    "        val = (\"123222\", x[3])\n",
    "        mycursor.execute(sql, val)\n",
    "        mydb.commit\n",
    "    except:\n",
    "        print(\"error\")"
   ]
  },
  {
   "cell_type": "code",
   "execution_count": 15,
   "id": "496e875b",
   "metadata": {},
   "outputs": [],
   "source": [
    "def update_record_employee(id, first_name, last_name, email, group_id):\n",
    "    print(\"{} {} {} {} {}\".format(id, first_name, last_name, email, group_id))"
   ]
  },
  {
   "cell_type": "code",
   "execution_count": null,
   "id": "dcb880cb",
   "metadata": {},
   "outputs": [],
   "source": [
    "pat = r'[^@]+@[^@]+\\.[^@]+'\n",
    "for x in myresult:\n",
    "    if x[1]== \"\" or x[2]==\"\" or not re.match(pat, x[3]):\n",
    "        print(x)\n",
    "        id = x[0]\n",
    "        email = x[3]\n",
    "        groupe_id = x[4]\n",
    "\n",
    "        if re.match(pat, email):\n",
    "            email_split = email.partition(\"@\")[0].split(\".\")\n",
    "            if x[1].lower() == email_split[0] or x[2].lower() == email_split[1]:\n",
    "                first_name = x[1] if x[1] != \"\" else email_split[0].capitalize()\n",
    "                last_name = x[2] if x[2] != \"\" else email_split[1].capitalize()\n",
    "                # update_record_employee(id, first_name, last_name, email, groupe_id)\n",
    "        else:\n",
    "            if x[1] != \"\" and x[2] != \"\":\n",
    "                email = x[1].lower() + \".\" + x[2].lower() + \"@acme.com\"\n",
    "            else:\n",
    "                pass\n",
    "            # print(email.partition(\"acme\"), x)\n"
   ]
  },
  {
   "cell_type": "code",
   "execution_count": null,
   "id": "7f7e0d56",
   "metadata": {},
   "outputs": [],
   "source": []
  }
 ],
 "metadata": {
  "kernelspec": {
   "display_name": "prevadom",
   "language": "python",
   "name": "python3"
  },
  "language_info": {
   "codemirror_mode": {
    "name": "ipython",
    "version": 3
   },
   "file_extension": ".py",
   "mimetype": "text/x-python",
   "name": "python",
   "nbconvert_exporter": "python",
   "pygments_lexer": "ipython3",
   "version": "3.8.13"
  }
 },
 "nbformat": 4,
 "nbformat_minor": 5
}
