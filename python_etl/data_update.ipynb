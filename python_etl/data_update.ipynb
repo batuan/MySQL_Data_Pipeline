{
 "cells": [
  {
   "cell_type": "code",
   "execution_count": 1,
   "id": "24b508fc",
   "metadata": {},
   "outputs": [],
   "source": [
    "import mysql.connector\n",
    "import re\n",
    "import pandas as pd"
   ]
  },
  {
   "cell_type": "code",
   "execution_count": 2,
   "id": "f7808e4a",
   "metadata": {},
   "outputs": [],
   "source": [
    "mydb = mysql.connector.connect(\n",
    "  host=\"localhost\",\n",
    "  user=\"root\",\n",
    "  password=\"password\",\n",
    "  database=\"acme\"\n",
    ")"
   ]
  },
  {
   "cell_type": "code",
   "execution_count": 3,
   "id": "73a97a0f",
   "metadata": {},
   "outputs": [],
   "source": [
    "mycursor = mydb.cursor()\n",
    "mycursor.execute(\"SELECT * FROM employee\")\n",
    "myresult = mycursor.fetchall()"
   ]
  },
  {
   "cell_type": "code",
   "execution_count": 5,
   "id": "8254ca1d",
   "metadata": {},
   "outputs": [],
   "source": [
    "df = pd.read_csv(\"../employees - infos badge à mettre à jour.csv\")\n",
    "df['index'] = range(1, len(df) + 1)\n",
    "df_val = df[['employee_first_name', 'employee_last_name', 'badge_serial_number', 'index']].fillna(\"\").values"
   ]
  },
  {
   "cell_type": "code",
   "execution_count": null,
   "id": "9e5ebe45",
   "metadata": {},
   "outputs": [],
   "source": [
    "for index, x in enumerate(df_val):\n",
    "    y = myresult[index]\n",
    "    if x[0] == y[1] and x[1] ==  y[2]:\n",
    "        print(x, y)"
   ]
  },
  {
   "cell_type": "code",
   "execution_count": 10,
   "id": "cb058510",
   "metadata": {},
   "outputs": [],
   "source": [
    "# insert into new table new_badge\n",
    "for x in df_val:\n",
    "    try:\n",
    "        sql = \"INSERT INTO new_badge (badge_serial_number, employee_id) VALUES (%s, %s)\"\n",
    "        val = (x[2], x[3])\n",
    "        mycursor.execute(sql, val)\n",
    "        mydb.commit()\n",
    "    except Exception as e:\n",
    "        print(e)\n",
    "\n",
    "mydb.commit()"
   ]
  },
  {
   "attachments": {},
   "cell_type": "markdown",
   "id": "cb2b725d",
   "metadata": {},
   "source": [
    "### The following block is used to change the record of employee table, make it better"
   ]
  },
  {
   "cell_type": "code",
   "execution_count": null,
   "id": "dcb880cb",
   "metadata": {},
   "outputs": [],
   "source": [
    "\n",
    "\n",
    "def update_record_employee(id, first_name, last_name, email, group_id):\n",
    "    print(\"{} {} {} {} {}\".format(id, first_name, last_name, email, group_id))\n",
    "\n",
    "\n",
    "pat = r'[^@]+@[^@]+\\.[^@]+'\n",
    "for x in myresult:\n",
    "    if x[1]== \"\" or x[2]==\"\" or not re.match(pat, x[3]):\n",
    "        print(x)\n",
    "        id = x[0]\n",
    "        email = x[3]\n",
    "        groupe_id = x[4]\n",
    "\n",
    "        if re.match(pat, email):\n",
    "            email_split = email.partition(\"@\")[0].split(\".\")\n",
    "            if x[1].lower() == email_split[0] or x[2].lower() == email_split[1]:\n",
    "                first_name = x[1] if x[1] != \"\" else email_split[0].capitalize()\n",
    "                last_name = x[2] if x[2] != \"\" else email_split[1].capitalize()\n",
    "                # update_record_employee(id, first_name, last_name, email, groupe_id)\n",
    "        else:\n",
    "            if x[1] != \"\" and x[2] != \"\":\n",
    "                email = x[1].lower() + \".\" + x[2].lower() + \"@acme.com\"\n",
    "            else:\n",
    "                pass\n",
    "            # print(email.partition(\"acme\"), x)\n"
   ]
  }
 ],
 "metadata": {
  "kernelspec": {
   "display_name": "prevadom",
   "language": "python",
   "name": "python3"
  },
  "language_info": {
   "codemirror_mode": {
    "name": "ipython",
    "version": 3
   },
   "file_extension": ".py",
   "mimetype": "text/x-python",
   "name": "python",
   "nbconvert_exporter": "python",
   "pygments_lexer": "ipython3",
   "version": "3.8.0"
  }
 },
 "nbformat": 4,
 "nbformat_minor": 5
}
